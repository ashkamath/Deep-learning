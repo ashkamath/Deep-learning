{
 "cells": [
  {
   "cell_type": "markdown",
   "metadata": {},
   "source": [
    "# Softmax exercise\n",
    "\n",
    "*Complete and hand in this completed worksheet (including its outputs and any supporting code outside of the worksheet) with your assignment submission. For more details see the [assignments page](https://compsci697l.github.io/assignments.html) on the course website.*\n",
    "\n",
    "This exercise is analogous to the SVM exercise. You will:\n",
    "\n",
    "- implement a fully-vectorized **loss function** for the Softmax classifier\n",
    "- implement the fully-vectorized expression for its **analytic gradient**\n",
    "- **check your implementation** with numerical gradient\n",
    "- use a validation set to **tune the learning rate and regularization** strength\n",
    "- **optimize** the loss function with **SGD**\n",
    "- **visualize** the final learned weights\n"
   ]
  },
  {
   "cell_type": "code",
   "execution_count": 25,
   "metadata": {
    "collapsed": false
   },
   "outputs": [
    {
     "name": "stdout",
     "output_type": "stream",
     "text": [
      "The autoreload extension is already loaded. To reload it, use:\n",
      "  %reload_ext autoreload\n"
     ]
    }
   ],
   "source": [
    "import random\n",
    "import numpy as np\n",
    "from asgn1.data_utils import load_CIFAR10\n",
    "import matplotlib.pyplot as plt\n",
    "%matplotlib inline\n",
    "plt.rcParams['figure.figsize'] = (10.0, 8.0) # set default size of plots\n",
    "plt.rcParams['image.interpolation'] = 'nearest'\n",
    "plt.rcParams['image.cmap'] = 'gray'\n",
    "\n",
    "# for auto-reloading extenrnal modules\n",
    "# see http://stackoverflow.com/questions/1907993/autoreload-of-modules-in-ipython\n",
    "%load_ext autoreload\n",
    "%autoreload 2"
   ]
  },
  {
   "cell_type": "code",
   "execution_count": 26,
   "metadata": {
    "collapsed": false
   },
   "outputs": [
    {
     "name": "stdout",
     "output_type": "stream",
     "text": [
      "Train data shape:  (49000, 3073)\n",
      "Train labels shape:  (49000,)\n",
      "Validation data shape:  (1000, 3073)\n",
      "Validation labels shape:  (1000,)\n",
      "Test data shape:  (1000, 3073)\n",
      "Test labels shape:  (1000,)\n",
      "dev data shape:  (500, 3073)\n",
      "dev labels shape:  (500,)\n"
     ]
    }
   ],
   "source": [
    "def get_CIFAR10_data(num_training=49000, num_validation=1000, num_test=1000, num_dev=500):\n",
    "  \"\"\"\n",
    "  Load the CIFAR-10 dataset from disk and perform preprocessing to prepare\n",
    "  it for the linear classifier. These are the same steps as we used for the\n",
    "  SVM, but condensed to a single function.  \n",
    "  \"\"\"\n",
    "  # Load the raw CIFAR-10 data\n",
    "  cifar10_dir = 'datasets/cifar-10-batches-py'\n",
    "  X_train, y_train, X_test, y_test = load_CIFAR10(cifar10_dir)\n",
    "  \n",
    "  # subsample the data\n",
    "  mask = range(num_training, num_training + num_validation)\n",
    "  X_val = X_train[mask]\n",
    "  y_val = y_train[mask]\n",
    "  mask = range(num_training)\n",
    "  X_train = X_train[mask]\n",
    "  y_train = y_train[mask]\n",
    "  mask = range(num_test)\n",
    "  X_test = X_test[mask]\n",
    "  y_test = y_test[mask]\n",
    "  mask = np.random.choice(num_training, num_dev, replace=False)\n",
    "  X_dev = X_train[mask]\n",
    "  y_dev = y_train[mask]\n",
    "  \n",
    "  # Preprocessing: reshape the image data into rows\n",
    "  X_train = np.reshape(X_train, (X_train.shape[0], -1))\n",
    "  X_val = np.reshape(X_val, (X_val.shape[0], -1))\n",
    "  X_test = np.reshape(X_test, (X_test.shape[0], -1))\n",
    "  X_dev = np.reshape(X_dev, (X_dev.shape[0], -1))\n",
    "  \n",
    "  # Normalize the data: subtract the mean image\n",
    "  mean_image = np.mean(X_train, axis = 0)\n",
    "  X_train -= mean_image\n",
    "  X_val -= mean_image\n",
    "  X_test -= mean_image\n",
    "  X_dev -= mean_image\n",
    "  \n",
    "  # add bias dimension and transform into columns\n",
    "  X_train = np.hstack([X_train, np.ones((X_train.shape[0], 1))])\n",
    "  X_val = np.hstack([X_val, np.ones((X_val.shape[0], 1))])\n",
    "  X_test = np.hstack([X_test, np.ones((X_test.shape[0], 1))])\n",
    "  X_dev = np.hstack([X_dev, np.ones((X_dev.shape[0], 1))])\n",
    "  \n",
    "  return X_train, y_train, X_val, y_val, X_test, y_test, X_dev, y_dev\n",
    "\n",
    "\n",
    "# Invoke the above function to get our data.\n",
    "X_train, y_train, X_val, y_val, X_test, y_test, X_dev, y_dev = get_CIFAR10_data()\n",
    "print 'Train data shape: ', X_train.shape\n",
    "print 'Train labels shape: ', y_train.shape\n",
    "print 'Validation data shape: ', X_val.shape\n",
    "print 'Validation labels shape: ', y_val.shape\n",
    "print 'Test data shape: ', X_test.shape\n",
    "print 'Test labels shape: ', y_test.shape\n",
    "print 'dev data shape: ', X_dev.shape\n",
    "print 'dev labels shape: ', y_dev.shape"
   ]
  },
  {
   "cell_type": "markdown",
   "metadata": {},
   "source": [
    "## Softmax Classifier\n",
    "\n",
    "Your code for this section will all be written inside **asgn1/classifiers/softmax.py**. \n"
   ]
  },
  {
   "cell_type": "code",
   "execution_count": 33,
   "metadata": {
    "collapsed": false
   },
   "outputs": [
    {
     "name": "stdout",
     "output_type": "stream",
     "text": [
      "loss: 2.324203\n",
      "sanity check: 2.302585\n"
     ]
    }
   ],
   "source": [
    "# First implement the naive softmax loss function with nested loops.\n",
    "# Open the file asgn1/classifiers/softmax.py and implement the\n",
    "# softmax_loss_naive function.\n",
    "\n",
    "from asgn1.classifiers.softmax import softmax_loss_naive\n",
    "import time\n",
    "\n",
    "# Generate a random softmax weight matrix and use it to compute the loss.\n",
    "W = np.random.randn(3073, 10) * 0.0001\n",
    "loss, grad = softmax_loss_naive(W, X_dev, y_dev, 0.0)\n",
    "\n",
    "# As a rough sanity check, our loss should be something close to -log(0.1).\n",
    "print 'loss: %f' % loss\n",
    "print 'sanity check: %f' % (-np.log(0.1))"
   ]
  },
  {
   "cell_type": "markdown",
   "metadata": {},
   "source": [
    "## Inline Question 1:\n",
    "Why do we expect our loss to be close to -log(0.1)? Explain briefly.**\n",
    "\n",
    "**Your answer:**  Since softmax calculates the cross entropy loss, in our case the average probability of each class is 1/10= 0.1 since we have 10 classes. We take negative log of that number, hence -log(0.1)\n"
   ]
  },
  {
   "cell_type": "code",
   "execution_count": 34,
   "metadata": {
    "collapsed": false
   },
   "outputs": [
    {
     "name": "stdout",
     "output_type": "stream",
     "text": [
      "numerical: -0.149157 analytic: -0.149157, relative error: 1.076881e-07\n",
      "numerical: 1.374086 analytic: 1.374086, relative error: 8.685206e-11\n",
      "numerical: -0.073520 analytic: -0.073520, relative error: 5.193355e-07\n",
      "numerical: 0.092425 analytic: 0.092425, relative error: 1.511397e-07\n",
      "numerical: 0.470940 analytic: 0.470940, relative error: 3.441668e-08\n",
      "numerical: 0.463386 analytic: 0.463386, relative error: 4.616110e-08\n",
      "numerical: -0.430892 analytic: -0.430892, relative error: 7.914296e-08\n",
      "numerical: -1.850102 analytic: -1.850102, relative error: 2.021368e-09\n",
      "numerical: 2.554462 analytic: 2.554462, relative error: 8.095524e-09\n",
      "numerical: 0.027259 analytic: 0.027259, relative error: 1.923421e-06\n",
      "numerical: 1.568299 analytic: 1.568299, relative error: 5.114038e-10\n",
      "numerical: 1.274297 analytic: 1.274297, relative error: 2.511501e-08\n",
      "numerical: -1.657047 analytic: -1.657047, relative error: 2.065807e-08\n",
      "numerical: 0.104507 analytic: 0.104507, relative error: 3.597877e-07\n",
      "numerical: 1.064218 analytic: 1.064218, relative error: 2.425987e-08\n",
      "numerical: 2.329306 analytic: 2.329306, relative error: 1.103942e-08\n",
      "numerical: 2.050751 analytic: 2.050751, relative error: 1.931723e-08\n",
      "numerical: -4.201028 analytic: -4.201028, relative error: 7.702920e-09\n",
      "numerical: -0.708423 analytic: -0.708423, relative error: 3.351090e-08\n",
      "numerical: -4.717674 analytic: -4.717674, relative error: 5.897884e-09\n"
     ]
    }
   ],
   "source": [
    "# Complete the implementation of softmax_loss_naive and implement a (naive)\n",
    "# version of the gradient that uses nested loops.\n",
    "loss, grad = softmax_loss_naive(W, X_dev, y_dev, 0.0)\n",
    "\n",
    "# As we did for the SVM, use numeric gradient checking as a debugging tool.\n",
    "# The numeric gradient should be close to the analytic gradient.\n",
    "from asgn1.gradient_check import grad_check_sparse\n",
    "f = lambda w: softmax_loss_naive(w, X_dev, y_dev, 0.0)[0]\n",
    "grad_numerical = grad_check_sparse(f, W, grad, 10)\n",
    "\n",
    "# similar to SVM case, do another gradient check with regularization\n",
    "loss, grad = softmax_loss_naive(W, X_dev, y_dev, 1e2)\n",
    "f = lambda w: softmax_loss_naive(w, X_dev, y_dev, 1e2)[0]\n",
    "grad_numerical = grad_check_sparse(f, W, grad, 10)"
   ]
  },
  {
   "cell_type": "code",
   "execution_count": 35,
   "metadata": {
    "collapsed": false
   },
   "outputs": [
    {
     "name": "stdout",
     "output_type": "stream",
     "text": [
      "naive loss: 2.324203e+00 computed in 0.131348s\n",
      "vectorized loss: 2.324203e+00 computed in 0.020420s\n",
      "Loss difference: 0.000000\n",
      "Gradient difference: 0.000000\n"
     ]
    }
   ],
   "source": [
    "# Now that we have a naive implementation of the softmax loss function and its gradient,\n",
    "# implement a vectorized version in softmax_loss_vectorized.\n",
    "# The two versions should compute the same results, but the vectorized version should be\n",
    "# much faster.\n",
    "tic = time.time()\n",
    "loss_naive, grad_naive = softmax_loss_naive(W, X_dev, y_dev, 0.00001)\n",
    "toc = time.time()\n",
    "print 'naive loss: %e computed in %fs' % (loss_naive, toc - tic)\n",
    "\n",
    "from asgn1.classifiers.softmax import softmax_loss_vectorized\n",
    "tic = time.time()\n",
    "loss_vectorized, grad_vectorized = softmax_loss_vectorized(W, X_dev, y_dev, 0.00001)\n",
    "toc = time.time()\n",
    "print 'vectorized loss: %e computed in %fs' % (loss_vectorized, toc - tic)\n",
    "\n",
    "# As we did for the SVM, we use the Frobenius norm to compare the two versions\n",
    "# of the gradient.\n",
    "grad_difference = np.linalg.norm(grad_naive - grad_vectorized, ord='fro')\n",
    "print 'Loss difference: %f' % np.abs(loss_naive - loss_vectorized)\n",
    "print 'Gradient difference: %f' % grad_difference"
   ]
  },
  {
   "cell_type": "code",
   "execution_count": 40,
   "metadata": {
    "collapsed": false
   },
   "outputs": [
    {
     "name": "stdout",
     "output_type": "stream",
     "text": [
      "iteration 0 / 1000: loss 82.670603\n",
      "iteration 100 / 1000: loss 44.440740\n",
      "iteration 200 / 1000: loss 25.067945\n",
      "iteration 300 / 1000: loss 14.553840\n",
      "iteration 400 / 1000: loss 8.753180\n",
      "iteration 500 / 1000: loss 5.625669\n",
      "iteration 600 / 1000: loss 3.874688\n",
      "iteration 700 / 1000: loss 3.032681\n",
      "iteration 800 / 1000: loss 2.507238\n",
      "iteration 900 / 1000: loss 2.221743\n",
      "iteration 0 / 1000: loss 128.848527\n",
      "iteration 100 / 1000: loss 49.184431\n",
      "iteration 200 / 1000: loss 19.679288\n",
      "iteration 300 / 1000: loss 8.748084\n",
      "iteration 400 / 1000: loss 4.486660\n",
      "iteration 500 / 1000: loss 2.907964\n",
      "iteration 600 / 1000: loss 2.362334\n",
      "iteration 700 / 1000: loss 2.036113\n",
      "iteration 800 / 1000: loss 2.019945\n",
      "iteration 900 / 1000: loss 1.998104\n",
      "iteration 0 / 1000: loss 159.683033\n",
      "iteration 100 / 1000: loss 48.200927\n",
      "iteration 200 / 1000: loss 15.705584\n",
      "iteration 300 / 1000: loss 6.032242\n",
      "iteration 400 / 1000: loss 3.124437\n",
      "iteration 500 / 1000: loss 2.310647\n",
      "iteration 600 / 1000: loss 2.119547\n",
      "iteration 700 / 1000: loss 2.109333\n",
      "iteration 800 / 1000: loss 1.883575\n",
      "iteration 900 / 1000: loss 2.001373\n",
      "iteration 0 / 1000: loss 82.912314\n",
      "iteration 100 / 1000: loss 49.125737\n",
      "iteration 200 / 1000: loss 30.147572\n",
      "iteration 300 / 1000: loss 18.969484\n",
      "iteration 400 / 1000: loss 12.038559\n",
      "iteration 500 / 1000: loss 8.038368\n",
      "iteration 600 / 1000: loss 5.509546\n",
      "iteration 700 / 1000: loss 4.201936\n",
      "iteration 800 / 1000: loss 3.207580\n",
      "iteration 900 / 1000: loss 2.716432\n",
      "iteration 0 / 1000: loss 128.832530\n",
      "iteration 100 / 1000: loss 57.342865\n",
      "iteration 200 / 1000: loss 26.562842\n",
      "iteration 300 / 1000: loss 12.872567\n",
      "iteration 400 / 1000: loss 6.859421\n",
      "iteration 500 / 1000: loss 3.990514\n",
      "iteration 600 / 1000: loss 2.854405\n",
      "iteration 700 / 1000: loss 2.342642\n",
      "iteration 800 / 1000: loss 2.073924\n",
      "iteration 900 / 1000: loss 2.185013\n",
      "iteration 0 / 1000: loss 159.758329\n",
      "iteration 100 / 1000: loss 58.588542\n",
      "iteration 200 / 1000: loss 22.687808\n",
      "iteration 300 / 1000: loss 9.482644\n",
      "iteration 400 / 1000: loss 4.724415\n",
      "iteration 500 / 1000: loss 2.950927\n",
      "iteration 600 / 1000: loss 2.220197\n",
      "iteration 700 / 1000: loss 2.141693\n",
      "iteration 800 / 1000: loss 1.945401\n",
      "iteration 900 / 1000: loss 2.002855\n",
      "iteration 0 / 1000: loss 81.228739\n",
      "iteration 100 / 1000: loss 32.852174\n",
      "iteration 200 / 1000: loss 14.205946\n",
      "iteration 300 / 1000: loss 6.872647\n",
      "iteration 400 / 1000: loss 3.958003\n",
      "iteration 500 / 1000: loss 2.740293\n",
      "iteration 600 / 1000: loss 2.192908\n",
      "iteration 700 / 1000: loss 2.026017\n",
      "iteration 800 / 1000: loss 1.972362\n",
      "iteration 900 / 1000: loss 1.964212\n",
      "iteration 0 / 1000: loss 130.144617\n",
      "iteration 100 / 1000: loss 31.015855\n",
      "iteration 200 / 1000: loss 8.619355\n",
      "iteration 300 / 1000: loss 3.504872\n",
      "iteration 400 / 1000: loss 2.296079\n",
      "iteration 500 / 1000: loss 2.105175\n",
      "iteration 600 / 1000: loss 1.963478\n",
      "iteration 700 / 1000: loss 1.951534\n",
      "iteration 800 / 1000: loss 1.893270\n",
      "iteration 900 / 1000: loss 1.895819\n",
      "iteration 0 / 1000: loss 158.961605\n",
      "iteration 100 / 1000: loss 27.172753\n",
      "iteration 200 / 1000: loss 5.963470\n",
      "iteration 300 / 1000: loss 2.693026\n",
      "iteration 400 / 1000: loss 2.052697\n",
      "iteration 500 / 1000: loss 1.940853\n",
      "iteration 600 / 1000: loss 1.944867\n",
      "iteration 700 / 1000: loss 1.986837\n",
      "iteration 800 / 1000: loss 1.961260\n",
      "iteration 900 / 1000: loss 2.019717\n",
      "lr 5.000000e-07 reg 5.000000e+03 train accuracy: 0.382449 val accuracy: 0.391000\n",
      "lr 5.000000e-07 reg 8.000000e+03 train accuracy: 0.374857 val accuracy: 0.385000\n",
      "lr 5.000000e-07 reg 1.000000e+04 train accuracy: 0.372796 val accuracy: 0.390000\n",
      "lr 6.000000e-07 reg 5.000000e+03 train accuracy: 0.388041 val accuracy: 0.381000\n",
      "lr 6.000000e-07 reg 8.000000e+03 train accuracy: 0.379714 val accuracy: 0.392000\n",
      "lr 6.000000e-07 reg 1.000000e+04 train accuracy: 0.371408 val accuracy: 0.386000\n",
      "lr 9.000000e-07 reg 5.000000e+03 train accuracy: 0.379327 val accuracy: 0.377000\n",
      "lr 9.000000e-07 reg 8.000000e+03 train accuracy: 0.365592 val accuracy: 0.379000\n",
      "lr 9.000000e-07 reg 1.000000e+04 train accuracy: 0.364959 val accuracy: 0.371000\n",
      "best validation accuracy achieved during cross-validation: 0.392000\n"
     ]
    }
   ],
   "source": [
    "# Use the validation set to tune hyperparameters (regularization strength and\n",
    "# learning rate). You should experiment with different ranges for the learning\n",
    "# rates and regularization strengths; if you are careful you should be able to\n",
    "# get a classification accuracy of over 0.35 on the validation set.\n",
    "from asgn1.classifiers import Softmax\n",
    "results = {}\n",
    "best_val = -1\n",
    "best_softmax = None\n",
    "learning_rates =[6e-7,5e-7,9e-7]\n",
    "regularization_strengths=[5e3,8e3,1e4]\n",
    "\n",
    "################################################################################\n",
    "# TODO:                                                                        #\n",
    "# Use the validation set to set the learning rate and regularization strength. #\n",
    "# This should be identical to the validation that you did for the SVM; save    #\n",
    "# the best trained softmax classifer in best_softmax.    \n",
    "for lr in learning_rates:\n",
    "    for rs in regularization_strengths:\n",
    "        softmax = Softmax()\n",
    "        softmax.train(X_train, y_train, learning_rate=lr, reg=rs, num_iters=1000, verbose=True)\n",
    "        y_train_pred = softmax.predict(X_train)\n",
    "        training_accuracy = np.mean(y_train == y_train_pred)\n",
    "        y_val_pred = softmax.predict(X_val)            \n",
    "        validation_accuracy = np.mean(y_val == y_val_pred)\n",
    "        results[(lr, rs)] = (training_accuracy, validation_accuracy)\n",
    "        if best_val<validation_accuracy:\n",
    "            best_val = validation_accuracy\n",
    "            best_softmax = softmax \n",
    "################################################################################\n",
    "pass\n",
    "################################################################################\n",
    "#                              END OF YOUR CODE                                #\n",
    "################################################################################\n",
    "    \n",
    "# Print out results.\n",
    "for lr, reg in sorted(results):\n",
    "    train_accuracy, val_accuracy = results[(lr, reg)]\n",
    "    print 'lr %e reg %e train accuracy: %f val accuracy: %f' % (\n",
    "                lr, reg, train_accuracy, val_accuracy)\n",
    "    \n",
    "print 'best validation accuracy achieved during cross-validation: %f' % best_val"
   ]
  },
  {
   "cell_type": "code",
   "execution_count": 42,
   "metadata": {
    "collapsed": false
   },
   "outputs": [
    {
     "name": "stdout",
     "output_type": "stream",
     "text": [
      "softmax on raw pixels final test set accuracy: 0.368000\n"
     ]
    }
   ],
   "source": [
    "# evaluate on test set\n",
    "# Evaluate the best softmax on test set\n",
    "y_test_pred = best_softmax.predict(X_test)\n",
    "test_accuracy = np.mean(y_test == y_test_pred)\n",
    "print 'softmax on raw pixels final test set accuracy: %f' % (test_accuracy, )"
   ]
  },
  {
   "cell_type": "code",
   "execution_count": 18,
   "metadata": {
    "collapsed": false
   },
   "outputs": [
    {
     "data": {
      "image/png": "[encoded data removed]",
      "text/plain": [
       "<matplotlib.figure.Figure at 0x119984f10>"
      ]
     },
     "metadata": {},
     "output_type": "display_data"
    }
   ],
   "source": [
    "# Visualize the learned weights for each class\n",
    "w = best_softmax.W[:-1,:] # strip out the bias\n",
    "w = w.reshape(32, 32, 3, 10)\n",
    "\n",
    "w_min, w_max = np.min(w), np.max(w)\n",
    "\n",
    "classes = ['plane', 'car', 'bird', 'cat', 'deer', 'dog', 'frog', 'horse', 'ship', 'truck']\n",
    "for i in xrange(10):\n",
    "  plt.subplot(2, 5, i + 1)\n",
    "  \n",
    "  # Rescale the weights to be between 0 and 255\n",
    "  wimg = 255.0 * (w[:, :, :, i].squeeze() - w_min) / (w_max - w_min)\n",
    "  plt.imshow(wimg.astype('uint8'))\n",
    "  plt.axis('off')\n",
    "  plt.title(classes[i])"
   ]
  }
 ],
 "metadata": {
  "anaconda-cloud": {},
  "kernelspec": {
   "display_name": "Python [Root]",
   "language": "python",
   "name": "Python [Root]"
  },
  "language_info": {
   "codemirror_mode": {
    "name": "ipython",
    "version": 2
   },
   "file_extension": ".py",
   "mimetype": "text/x-python",
   "name": "python",
   "nbconvert_exporter": "python",
   "pygments_lexer": "ipython2",
   "version": "2.7.12"
  }
 },
 "nbformat": 4,
 "nbformat_minor": 0
}
